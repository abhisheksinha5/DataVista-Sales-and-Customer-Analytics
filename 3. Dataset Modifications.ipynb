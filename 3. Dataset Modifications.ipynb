{
 "cells": [
  {
   "cell_type": "markdown",
   "id": "504e7444",
   "metadata": {},
   "source": [
    "# <center> Dataset Modifications </center>"
   ]
  },
  {
   "cell_type": "markdown",
   "id": "9ea75fb4",
   "metadata": {},
   "source": [
    "# Adding \"Category ID\""
   ]
  },
  {
   "cell_type": "code",
   "execution_count": 3,
   "id": "2f71ea9b",
   "metadata": {},
   "outputs": [
    {
     "name": "stdout",
     "output_type": "stream",
     "text": [
      "New column 'Category ID' has been added to the Excel file.\n"
     ]
    }
   ],
   "source": [
    "import pandas as pd\n",
    "\n",
    "# Read the Excel file into a pandas DataFrame\n",
    "df = pd.read_excel('Final.xlsx')\n",
    "\n",
    "# Get unique values from the \"Product Category\" column\n",
    "unique_categories = df['Product Category'].unique()\n",
    "\n",
    "# Create a dictionary to store category IDs\n",
    "category_ids = {}\n",
    "\n",
    "# Generate category IDs\n",
    "for i, category in enumerate(unique_categories):\n",
    "    category_id = f'PC{i+1:03d}'\n",
    "    category_ids[category] = category_id\n",
    "\n",
    "# Add a new column \"Category ID\" to the DataFrame\n",
    "df['Category ID'] = df['Product Category'].map(category_ids)\n",
    "\n",
    "# Write the updated DataFrame back to the Excel file\n",
    "with pd.ExcelWriter('updated_excel_file.xlsx') as writer:\n",
    "    df.to_excel(writer, index=False)\n",
    "\n",
    "print(\"New column 'Category ID' has been added to the Excel file.\")\n"
   ]
  },
  {
   "cell_type": "code",
   "execution_count": 4,
   "id": "8aeb5c7f",
   "metadata": {},
   "outputs": [],
   "source": [
    "import pandas as pd\n",
    "import random\n",
    "\n",
    "# Load the Excel file\n",
    "df = pd.read_excel(\"updated_excel_file.xlsx\")\n",
    "\n",
    "# List of reasons for order returns\n",
    "reasons = [\n",
    "    \"Defective\",\n",
    "    \"Incorrect item received\",\n",
    "    \"Changed mind\",\n",
    "    \"Poor quality\",\n",
    "    \"Size or fit issues\",\n",
    "    \"Not as described\",\n",
    "    \"Late delivery\",\n",
    "    \"Unwanted gift\",\n",
    "    \"Cancellation of plans\",\n",
    "    \"Financial reasons\"\n",
    "]\n",
    "\n",
    "# Iterate over the dataframe and assign a random reason for \"Yes\" entries\n",
    "for index, row in df.iterrows():\n",
    "    if row['Order Returned'] == 'Yes':\n",
    "        reason = random.choice(reasons)\n",
    "        df.at[index, 'Return Reason'] = reason\n",
    "\n",
    "# Save the updated dataframe to a new Excel file\n",
    "df.to_excel(\"Final 2.xlsx\", index=False)\n"
   ]
  },
  {
   "cell_type": "markdown",
   "id": "36780f62",
   "metadata": {},
   "source": [
    "# Removing Duplicates in \"Customer ID\""
   ]
  },
  {
   "cell_type": "code",
   "execution_count": 2,
   "id": "767f26fe",
   "metadata": {},
   "outputs": [
    {
     "name": "stdout",
     "output_type": "stream",
     "text": [
      "Duplicate 'Customer ID' values found:\n",
      "       Customer ID First Name   Last Name  Age     Sex  \\\n",
      "463      C84864072     Joshua    Anderson   60  Female   \n",
      "861      C60973316     Jeremy  Montgomery   28  Female   \n",
      "1084     C18413618     Justin       Mills   51  Female   \n",
      "1085     C69496656       John      Snyder   43    Male   \n",
      "1128     C47025819   Kimberly      Hughes   60    Male   \n",
      "...            ...        ...         ...  ...     ...   \n",
      "999571   C27639688   Jonathan       Smith   53  Female   \n",
      "999673   C25416773     Thomas     Francis   27  Female   \n",
      "999776   C02270505        Joe     Johnson   39  Female   \n",
      "999795   C36127369     Teresa       Henry   18    Male   \n",
      "999800   C55882786       Eric        Cook   45    Male   \n",
      "\n",
      "                                   Address                 City        State  \\\n",
      "463           22312 Jones Courts Suite 987          Crystalside     Missouri   \n",
      "861          31755 Darryl Squares Apt. 789           Lopezmouth     Missouri   \n",
      "1084        433 Patrick Junction Suite 318  North Stephanieview     Arkansas   \n",
      "1085                    636 Tiffany Stream    South Valeriefort      Wyoming   \n",
      "1128          54798 Sanchez Creek Apt. 964  Lake Crystalborough        Texas   \n",
      "...                                    ...                  ...          ...   \n",
      "999571                     8425 Davis Isle         East Tiffany         Iowa   \n",
      "999673                  8011 Dunn Overpass           East Sarah     Oklahoma   \n",
      "999776  8671 Phillips Extensions Suite 908            Brownfort  Connecticut   \n",
      "999795                    8934 Jordan Rest       Mccormickshire        Idaho   \n",
      "999800          981 Douglas Port Suite 895           Lake Shane    Louisiana   \n",
      "\n",
      "        Zip Code  \n",
      "463        62912  \n",
      "861        79036  \n",
      "1084       78944  \n",
      "1085        3702  \n",
      "1128       67021  \n",
      "...          ...  \n",
      "999571     66943  \n",
      "999673     73793  \n",
      "999776     39150  \n",
      "999795     13232  \n",
      "999800     65625  \n",
      "\n",
      "[9927 rows x 9 columns]\n"
     ]
    }
   ],
   "source": [
    "import pandas as pd\n",
    "\n",
    "# Read the Excel file into a pandas DataFrame (specifying the sheet name)\n",
    "df2 = pd.read_excel('Final 2.xlsx', sheet_name='Customer Data')\n",
    "\n",
    "# Check for duplicate values in the 'Customer ID' column\n",
    "duplicate_customer_ids = df2[df2.duplicated(subset=['Customer ID'], keep=False)]\n",
    "\n",
    "# If there are duplicates, display them\n",
    "if not duplicate_customer_ids.empty:\n",
    "    print(\"Duplicate 'Customer ID' values found:\")\n",
    "    print(duplicate_customer_ids)\n",
    "else:\n",
    "    print(\"No duplicate 'Customer ID' values found.\")\n"
   ]
  },
  {
   "cell_type": "code",
   "execution_count": 8,
   "id": "c5432061",
   "metadata": {},
   "outputs": [],
   "source": [
    "# Remove duplicate values in the 'Customer ID' column, keeping the first occurrence\n",
    "df2.drop_duplicates(subset=['Customer ID'], keep='first', inplace=True)\n",
    "\n",
    "# Write the modified DataFrame back to the specific sheet in the Excel file\n",
    "with pd.ExcelWriter('Final 2.xlsx', engine='openpyxl') as writer:\n",
    "    df2.to_excel(writer, sheet_name='Customer Data', index=False)\n",
    "    writer.book.save('Final 2.xlsx')\n"
   ]
  },
  {
   "cell_type": "code",
   "execution_count": 9,
   "id": "656b1671",
   "metadata": {},
   "outputs": [
    {
     "name": "stdout",
     "output_type": "stream",
     "text": [
      "No duplicate 'Customer ID' values found.\n"
     ]
    }
   ],
   "source": [
    "# Check for duplicate values in the 'Customer ID' column\n",
    "duplicate_customer_ids = df2[df2.duplicated(subset=['Customer ID'], keep=False)]\n",
    "\n",
    "# If there are duplicates, display them\n",
    "if not duplicate_customer_ids.empty:\n",
    "    print(\"Duplicate 'Customer ID' values found:\")\n",
    "    print(duplicate_customer_ids)\n",
    "else:\n",
    "    print(\"No duplicate 'Customer ID' values found.\")\n"
   ]
  },
  {
   "cell_type": "markdown",
   "id": "d2d4604e",
   "metadata": {},
   "source": [
    "# Adding \"Reason ID\""
   ]
  },
  {
   "cell_type": "code",
   "execution_count": 13,
   "id": "a78b4a3f",
   "metadata": {},
   "outputs": [
    {
     "name": "stdout",
     "output_type": "stream",
     "text": [
      "New column 'Reason ID' added and Excel file updated successfully.\n"
     ]
    }
   ],
   "source": [
    "import pandas as pd\n",
    "\n",
    "# Load the Excel file into a DataFrame\n",
    "excel_file = \"Final_3.xlsx\"  # Replace \"your_excel_file.xlsx\" with the path to your Excel file\n",
    "sheet_name = \"Sales Data\"\n",
    "df = pd.read_excel(excel_file, sheet_name=sheet_name)\n",
    "\n",
    "# Define the reasons and their corresponding IDs\n",
    "reason_to_id = {\n",
    "    \"Defective\": 'RR01',\n",
    "    \"Incorrect item received\": 'RR02',\n",
    "    \"Changed mind\": 'RR03',\n",
    "    \"Poor quality\": 'RR04',\n",
    "    \"Size or fit issues\": 'RR05',\n",
    "    \"Not as described\": 'RR06',\n",
    "    \"Late delivery\": 'RR07',\n",
    "    \"Unwanted gift\": 'RR08',\n",
    "    \"Cancellation of plans\": 'RR09',\n",
    "    \"Financial reasons\": 'RR10'\n",
    "}\n",
    "\n",
    "# Add a new column \"Reason ID\"\n",
    "df[\"Reason ID\"] = df[\"Return Reason\"].map(reason_to_id)\n",
    "\n",
    "# Save the DataFrame back to the Excel file\n",
    "df.to_excel(excel_file, sheet_name=sheet_name, index=False)\n",
    "\n",
    "print(\"New column 'Reason ID' added and Excel file updated successfully.\")\n"
   ]
  },
  {
   "cell_type": "code",
   "execution_count": 14,
   "id": "508386fd",
   "metadata": {},
   "outputs": [],
   "source": [
    "import pandas as pd\n",
    "\n",
    "# Load the Excel file\n",
    "file_path = 'Final_3.xlsx'\n",
    "df = pd.read_excel(file_path, sheet_name='Sales Data')\n",
    "\n",
    "# Create a mapping dictionary to store product names and IDs\n",
    "product_id_map = {}\n",
    "\n",
    "# Function to generate product IDs\n",
    "def generate_product_id(product_name):\n",
    "    if product_name in product_id_map:\n",
    "        return product_id_map[product_name]\n",
    "    else:\n",
    "        product_id = len(product_id_map) + 1\n",
    "        product_id_map[product_name] = f'P{product_id:05d}'\n",
    "        return product_id_map[product_name]\n",
    "\n",
    "# Create a new column for Product ID\n",
    "df['Product ID'] = df['Product Name'].apply(generate_product_id)\n",
    "\n",
    "# Save the updated DataFrame to a new Excel file\n",
    "output_file_path = 'Final 4.xlsx'\n",
    "df.to_excel(output_file_path, index=False)\n"
   ]
  },
  {
   "cell_type": "code",
   "execution_count": null,
   "id": "3f51c2d3",
   "metadata": {},
   "outputs": [],
   "source": []
  }
 ],
 "metadata": {
  "kernelspec": {
   "display_name": "My Environment",
   "language": "python",
   "name": "set_project"
  },
  "language_info": {
   "codemirror_mode": {
    "name": "ipython",
    "version": 3
   },
   "file_extension": ".py",
   "mimetype": "text/x-python",
   "name": "python",
   "nbconvert_exporter": "python",
   "pygments_lexer": "ipython3",
   "version": "3.11.5"
  }
 },
 "nbformat": 4,
 "nbformat_minor": 5
}
